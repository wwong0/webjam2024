{
 "cells": [
  {
   "cell_type": "code",
   "execution_count": null,
   "id": "initial_id",
   "metadata": {
    "collapsed": true
   },
   "outputs": [],
   "source": [
    ""
   ]
  },
  {
   "metadata": {},
   "cell_type": "code",
   "outputs": [],
   "execution_count": null,
   "source": "",
   "id": "88fe855df8ce63f0"
  },
  {
   "metadata": {
    "ExecuteTime": {
     "end_time": "2024-11-20T03:12:40.845068Z",
     "start_time": "2024-11-20T03:12:40.254496Z"
    }
   },
   "cell_type": "code",
   "source": [
    "import pathlib\n",
    "from datetime import datetime\n",
    "import json\n",
    "import pandas as pd\n",
    "\n",
    "SAMPLE_WEEKLY_OUTPUT = 'sample_weekly_output.json'"
   ],
   "id": "19bc7080cddb806",
   "outputs": [],
   "execution_count": 5
  },
  {
   "metadata": {
    "ExecuteTime": {
     "end_time": "2024-11-20T03:11:05.177734Z",
     "start_time": "2024-11-20T03:11:05.150720Z"
    }
   },
   "cell_type": "code",
   "source": [
    "\n",
    "with open(pathlib.Path(SAMPLE_WEEKLY_OUTPUT), 'r') as f:\n",
    "    sample_weekly_output = json.load(f)"
   ],
   "id": "c68361372722b847",
   "outputs": [],
   "execution_count": 3
  },
  {
   "metadata": {
    "ExecuteTime": {
     "end_time": "2024-11-20T03:14:18.189388Z",
     "start_time": "2024-11-20T03:14:18.174500Z"
    }
   },
   "cell_type": "code",
   "source": "",
   "id": "2ac8a8d9fd97a6ce",
   "outputs": [
    {
     "data": {
      "text/plain": [
       "  breakfast.date breakfast.restaurant  breakfast.refreshTime  \\\n",
       "0     11/20/2024            Anteatery             1732065184   \n",
       "\n",
       "   breakfast.schedule.breakfast.start  breakfast.schedule.breakfast.end  \\\n",
       "0                                 715                              1100   \n",
       "\n",
       "   breakfast.schedule.lunch.start  breakfast.schedule.lunch.end  \\\n",
       "0                            1100                          1630   \n",
       "\n",
       "   breakfast.schedule.dinner.start  breakfast.schedule.dinner.end  \\\n",
       "0                             1630                           2300   \n",
       "\n",
       "  breakfast.currentMeal  ...  dinner.schedule.lunch.end  \\\n",
       "0             breakfast  ...                       1630   \n",
       "\n",
       "   dinner.schedule.dinner.start  dinner.schedule.dinner.end  \\\n",
       "0                          1630                        2300   \n",
       "\n",
       "   dinner.currentMeal dinner.price.breakfast dinner.price.lunch  \\\n",
       "0              dinner                  14.75              15.75   \n",
       "\n",
       "  dinner.price.brunch dinner.price.dinner  dinner.themed  \\\n",
       "0               15.75               15.75             []   \n",
       "\n",
       "                                          dinner.all  \n",
       "0  [{'station': 'Sizzle Grill', 'menu': [{'catego...  \n",
       "\n",
       "[1 rows x 48 columns]"
      ],
      "text/html": [
       "<div>\n",
       "<style scoped>\n",
       "    .dataframe tbody tr th:only-of-type {\n",
       "        vertical-align: middle;\n",
       "    }\n",
       "\n",
       "    .dataframe tbody tr th {\n",
       "        vertical-align: top;\n",
       "    }\n",
       "\n",
       "    .dataframe thead th {\n",
       "        text-align: right;\n",
       "    }\n",
       "</style>\n",
       "<table border=\"1\" class=\"dataframe\">\n",
       "  <thead>\n",
       "    <tr style=\"text-align: right;\">\n",
       "      <th></th>\n",
       "      <th>breakfast.date</th>\n",
       "      <th>breakfast.restaurant</th>\n",
       "      <th>breakfast.refreshTime</th>\n",
       "      <th>breakfast.schedule.breakfast.start</th>\n",
       "      <th>breakfast.schedule.breakfast.end</th>\n",
       "      <th>breakfast.schedule.lunch.start</th>\n",
       "      <th>breakfast.schedule.lunch.end</th>\n",
       "      <th>breakfast.schedule.dinner.start</th>\n",
       "      <th>breakfast.schedule.dinner.end</th>\n",
       "      <th>breakfast.currentMeal</th>\n",
       "      <th>...</th>\n",
       "      <th>dinner.schedule.lunch.end</th>\n",
       "      <th>dinner.schedule.dinner.start</th>\n",
       "      <th>dinner.schedule.dinner.end</th>\n",
       "      <th>dinner.currentMeal</th>\n",
       "      <th>dinner.price.breakfast</th>\n",
       "      <th>dinner.price.lunch</th>\n",
       "      <th>dinner.price.brunch</th>\n",
       "      <th>dinner.price.dinner</th>\n",
       "      <th>dinner.themed</th>\n",
       "      <th>dinner.all</th>\n",
       "    </tr>\n",
       "  </thead>\n",
       "  <tbody>\n",
       "    <tr>\n",
       "      <th>0</th>\n",
       "      <td>11/20/2024</td>\n",
       "      <td>Anteatery</td>\n",
       "      <td>1732065184</td>\n",
       "      <td>715</td>\n",
       "      <td>1100</td>\n",
       "      <td>1100</td>\n",
       "      <td>1630</td>\n",
       "      <td>1630</td>\n",
       "      <td>2300</td>\n",
       "      <td>breakfast</td>\n",
       "      <td>...</td>\n",
       "      <td>1630</td>\n",
       "      <td>1630</td>\n",
       "      <td>2300</td>\n",
       "      <td>dinner</td>\n",
       "      <td>14.75</td>\n",
       "      <td>15.75</td>\n",
       "      <td>15.75</td>\n",
       "      <td>15.75</td>\n",
       "      <td>[]</td>\n",
       "      <td>[{'station': 'Sizzle Grill', 'menu': [{'catego...</td>\n",
       "    </tr>\n",
       "  </tbody>\n",
       "</table>\n",
       "<p>1 rows × 48 columns</p>\n",
       "</div>"
      ]
     },
     "execution_count": 9,
     "metadata": {},
     "output_type": "execute_result"
    }
   ],
   "execution_count": 9
  }
 ],
 "metadata": {
  "kernelspec": {
   "display_name": "Python 3",
   "language": "python",
   "name": "python3"
  },
  "language_info": {
   "codemirror_mode": {
    "name": "ipython",
    "version": 2
   },
   "file_extension": ".py",
   "mimetype": "text/x-python",
   "name": "python",
   "nbconvert_exporter": "python",
   "pygments_lexer": "ipython2",
   "version": "2.7.6"
  }
 },
 "nbformat": 4,
 "nbformat_minor": 5
}
